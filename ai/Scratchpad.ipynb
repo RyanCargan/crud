{
 "cells": [
  {
   "cell_type": "code",
   "execution_count": 1,
   "id": "d55e3310-8d3b-48fb-a2d9-795f4ab04d37",
   "metadata": {},
   "outputs": [
    {
     "name": "stdout",
     "output_type": "stream",
     "text": [
      "Yo!\n"
     ]
    }
   ],
   "source": [
    "print(\"Yo!\")"
   ]
  },
  {
   "cell_type": "code",
   "execution_count": 2,
   "id": "d6a80fdf-95d1-48e8-82b9-d7bc9a4fa8fd",
   "metadata": {},
   "outputs": [
    {
     "name": "stdout",
     "output_type": "stream",
     "text": [
      "Hello again!\n"
     ]
    }
   ],
   "source": [
    "print(\"Hello again!\")"
   ]
  },
  {
   "cell_type": "code",
   "execution_count": 3,
   "id": "94837847-5797-45a0-9885-9d8b96b5d06d",
   "metadata": {},
   "outputs": [
    {
     "name": "stdout",
     "output_type": "stream",
     "text": [
      "env: TF_CPP_MIN_LOG_LEVEL=0\n"
     ]
    }
   ],
   "source": [
    "%env TF_CPP_MIN_LOG_LEVEL=0"
   ]
  },
  {
   "cell_type": "code",
   "execution_count": 4,
   "id": "02d6946a-5337-4515-94ff-07fc3c71c55e",
   "metadata": {},
   "outputs": [
    {
     "name": "stdout",
     "output_type": "stream",
     "text": [
      "gpu\n"
     ]
    },
    {
     "name": "stderr",
     "output_type": "stream",
     "text": [
      "2022-11-16 19:11:16.940843: I external/org_tensorflow/tensorflow/compiler/xla/service/service.cc:169] XLA service 0x56120f3c6f10 initialized for platform Interpreter (this does not guarantee that XLA will be used). Devices:\n",
      "2022-11-16 19:11:16.940860: I external/org_tensorflow/tensorflow/compiler/xla/service/service.cc:177]   StreamExecutor device (0): Interpreter, <undefined>\n",
      "2022-11-16 19:11:16.943220: I external/org_tensorflow/tensorflow/compiler/xla/pjrt/tfrt_cpu_pjrt_client.cc:215] TfrtCpuClient created.\n",
      "2022-11-16 19:11:17.039276: I external/org_tensorflow/tensorflow/compiler/xla/stream_executor/cuda/cuda_gpu_executor.cc:995] successful NUMA node read from SysFS had negative value (-1), but there must be at least one NUMA node, so returning NUMA node zero\n",
      "2022-11-16 19:11:17.039594: I external/org_tensorflow/tensorflow/compiler/xla/service/service.cc:169] XLA service 0x56120f3996d0 initialized for platform CUDA (this does not guarantee that XLA will be used). Devices:\n",
      "2022-11-16 19:11:17.039617: I external/org_tensorflow/tensorflow/compiler/xla/service/service.cc:177]   StreamExecutor device (0): NVIDIA GeForce GTX 1060 6GB, Compute Capability 6.1\n",
      "2022-11-16 19:11:17.040145: I external/org_tensorflow/tensorflow/compiler/xla/pjrt/gpu/se_gpu_pjrt_client.cc:198] Using BFC allocator.\n",
      "2022-11-16 19:11:17.040180: I external/org_tensorflow/tensorflow/compiler/xla/pjrt/gpu/gpu_helpers.cc:105] XLA backend allocating 5193636249 bytes on device 0 for BFCAllocator.\n"
     ]
    }
   ],
   "source": [
    "from jax.lib import xla_bridge\n",
    "\n",
    "print(xla_bridge.get_backend().platform)"
   ]
  },
  {
   "cell_type": "code",
   "execution_count": 5,
   "id": "9c312f4a-ad21-408a-b4b5-4f87f3074947",
   "metadata": {},
   "outputs": [],
   "source": [
    "from jax import numpy as jnp"
   ]
  },
  {
   "cell_type": "code",
   "execution_count": 6,
   "id": "ba707755-1877-4bac-b0d7-754b87b070da",
   "metadata": {},
   "outputs": [
    {
     "name": "stdout",
     "output_type": "stream",
     "text": [
      "gpu:0\n"
     ]
    },
    {
     "name": "stderr",
     "output_type": "stream",
     "text": [
      "2022-11-16 19:11:32.221815: W external/org_tensorflow/tensorflow/compiler/xla/service/gpu/nvptx_compiler.cc:492] The NVIDIA driver's CUDA version is 11.7 which is older than the ptxas CUDA version (11.8.89). Because the driver is older than the ptxas version, XLA is disabling parallel compilation, which may slow down compilation. You should update your NVIDIA driver or use the NVIDIA-provided CUDA forward compatibility packages.\n"
     ]
    }
   ],
   "source": [
    "print(jnp.ones(3).device_buffer.device())"
   ]
  },
  {
   "cell_type": "code",
   "execution_count": null,
   "id": "76d22715-95ae-4193-833c-58e410e2f68a",
   "metadata": {},
   "outputs": [],
   "source": []
  }
 ],
 "metadata": {
  "kernelspec": {
   "display_name": "Python 3 (ipykernel)",
   "language": "python",
   "name": "python3"
  },
  "language_info": {
   "codemirror_mode": {
    "name": "ipython",
    "version": 3
   },
   "file_extension": ".py",
   "mimetype": "text/x-python",
   "name": "python",
   "nbconvert_exporter": "python",
   "pygments_lexer": "ipython3",
   "version": "3.11.0"
  },
  "vscode": {
   "interpreter": {
    "hash": "8530a8dbe7ac10f8aeef7a55f576199a48562e1ed9857ce3c59690451264e909"
   }
  }
 },
 "nbformat": 4,
 "nbformat_minor": 5
}
